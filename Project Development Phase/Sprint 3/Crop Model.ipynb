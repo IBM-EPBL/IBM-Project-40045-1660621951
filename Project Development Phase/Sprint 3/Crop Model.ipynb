{
  "nbformat": 4,
  "nbformat_minor": 0,
  "metadata": {
    "colab": {
      "provenance": []
    },
    "kernelspec": {
      "name": "python3",
      "display_name": "Python 3"
    },
    "language_info": {
      "name": "python"
    }
  },
  "cells": [
    {
      "cell_type": "code",
      "execution_count": 1,
      "metadata": {
        "id": "LxNV8WjvltDR"
      },
      "outputs": [],
      "source": [
        "from sklearn.model_selection import train_test_split\n",
        "import pandas as pd\n",
        "from sklearn.svm import SVC\n",
        "from sklearn.naive_bayes import GaussianNB\n",
        "from sklearn.ensemble import RandomForestClassifier, VotingClassifier\n",
        "from sklearn.neighbors import KNeighborsClassifier\n",
        "from sklearn.metrics import accuracy_score\n",
        "from sklearn import model_selection"
      ]
    },
    {
      "cell_type": "code",
      "source": [
        "crop = pd.read_csv('/content/crop_recommendation.csv')\n",
        "X = crop.iloc[:,:-1].values\n",
        "Y = crop.iloc[:,-1].values"
      ],
      "metadata": {
        "id": "5qtGD8Okl3KO"
      },
      "execution_count": 2,
      "outputs": []
    },
    {
      "cell_type": "code",
      "source": [
        "X_train, X_test, y_train, y_test = train_test_split(X, Y, test_size = 0.15)"
      ],
      "metadata": {
        "id": "ZQkgd1kUl-mN"
      },
      "execution_count": 3,
      "outputs": []
    },
    {
      "cell_type": "code",
      "source": [
        "models = []\n",
        "models.append(('SVC', SVC(gamma ='auto', probability = True)))\n",
        "models.append(('svm1', SVC(probability=True, kernel='poly', degree=1)))\n",
        "models.append(('svm2', SVC(probability=True, kernel='poly', degree=2)))\n",
        "models.append(('svm3', SVC(probability=True, kernel='poly', degree=3)))\n",
        "models.append(('svm4', SVC(probability=True, kernel='poly', degree=4)))\n",
        "models.append(('svm5', SVC(probability=True, kernel='poly', degree=5)))\n",
        "models.append(('rf',RandomForestClassifier(n_estimators = 21)))\n",
        "models.append(('gnb',GaussianNB()))\n",
        "models.append(('knn1', KNeighborsClassifier(n_neighbors=1)))\n",
        "models.append(('knn3', KNeighborsClassifier(n_neighbors=3)))\n",
        "models.append(('knn5', KNeighborsClassifier(n_neighbors=5)))\n",
        "models.append(('knn7', KNeighborsClassifier(n_neighbors=7)))\n",
        "models.append(('knn9', KNeighborsClassifier(n_neighbors=9)))"
      ],
      "metadata": {
        "id": "0sHEDFRHmBLU"
      },
      "execution_count": 4,
      "outputs": []
    },
    {
      "cell_type": "code",
      "source": [
        "vot_soft = VotingClassifier(estimators=models, voting='soft')\n",
        "vot_soft.fit(X_train, y_train)\n",
        "y_pred = vot_soft.predict(X_test)"
      ],
      "metadata": {
        "id": "-oFs6QGymGE1"
      },
      "execution_count": 5,
      "outputs": []
    },
    {
      "cell_type": "code",
      "source": [
        "scores = model_selection.cross_val_score(vot_soft, X_test, y_test,cv=5,scoring='accuracy')\n",
        "print(\"Accuracy: \",scores.mean())"
      ],
      "metadata": {
        "id": "E2fdfLAtmJGD",
        "colab": {
          "base_uri": "https://localhost:8080/"
        },
        "outputId": "7349299a-385e-4ad7-9852-865a20b6586a"
      },
      "execution_count": 6,
      "outputs": [
        {
          "output_type": "stream",
          "name": "stdout",
          "text": [
            "Accuracy:  0.9636363636363636\n"
          ]
        }
      ]
    },
    {
      "cell_type": "code",
      "source": [
        "score = accuracy_score(y_test, y_pred)\n",
        "print(\"Voting Score % d\" % score)"
      ],
      "metadata": {
        "id": "8BnsTRIqmL5S",
        "colab": {
          "base_uri": "https://localhost:8080/"
        },
        "outputId": "c8b4fdba-d794-45d2-e1f4-d5d8179b0b8e"
      },
      "execution_count": 7,
      "outputs": [
        {
          "output_type": "stream",
          "name": "stdout",
          "text": [
            "Voting Score  0\n"
          ]
        }
      ]
    },
    {
      "cell_type": "code",
      "source": [
        "import pickle\n",
        "pkl_filename = 'Crop_Recommendation.pkl'\n",
        "Model_pkl = open(pkl_filename, 'wb')\n",
        "pickle.dump(vot_soft, Model_pkl)\n",
        "Model_pkl.close()"
      ],
      "metadata": {
        "id": "-0-2-SR9mOij"
      },
      "execution_count": 8,
      "outputs": []
    }
  ]
}