{
 "cells": [
  {
   "cell_type": "code",
   "execution_count": 1,
   "metadata": {
    "id": "MeUrtcLvTRjK"
   },
   "outputs": [],
   "source": [
    "from keras.preprocessing import image\n",
    "from tensorflow.keras.preprocessing.image import img_to_array\n",
    "from tensorflow.keras.preprocessing import image\n",
    "from tensorflow.keras.models import load_model\n",
    "import numpy as nps"
   ]
  },
  {
   "cell_type": "code",
   "execution_count": 2,
   "metadata": {},
   "outputs": [],
   "source": [
    "import requests\n",
    "from tensorflow.keras.preprocessing import image\n",
    "\n",
    "from tensorflow.keras.models import load_model\n",
    "import numpy as np\n",
    "import pandas as pd\n",
    "import tensorflow as tf\n",
    "from flask import Flask, request ,  render_template, redirect, url_for\n",
    "import os\n",
    "from werkzeug.utils import secure_filename\n",
    "from tensorflow.python.keras.backend import set_session"
   ]
  },
  {
   "cell_type": "code",
   "execution_count": 3,
   "metadata": {
    "id": "PWXGs3dlTRg5"
   },
   "outputs": [],
   "source": [
    "model=load_model(r'C:\\Users\\Dell\\Desktop\\IBM\\fruitdata.h5')\n",
    "model1=load_model(r'C:\\Users\\Dell\\Desktop\\IBM\\vegetabledata.h5')"
   ]
  },
  {
   "cell_type": "code",
   "execution_count": 4,
   "metadata": {
    "id": "RVO8uVO3Tcii"
   },
   "outputs": [],
   "source": [
    "app= Flask(__name__,template_folder='template')"
   ]
  },
  {
   "cell_type": "code",
   "execution_count": 5,
   "metadata": {
    "id": "7MasJvDLaaBF"
   },
   "outputs": [],
   "source": [
    "@app.route('/')\n",
    "def home():\n",
    "  return render_template('home.html')"
   ]
  },
  {
   "cell_type": "code",
   "execution_count": null,
   "metadata": {
    "id": "w87UFackUQqY"
   },
   "outputs": [],
   "source": [
    "@app.route('/prediction')\n",
    "def prediction():\n",
    "  return render_template('predict.html')"
   ]
  },
  {
   "cell_type": "code",
   "execution_count": 7,
   "metadata": {
    "id": "vnRpf6qeUQmz"
   },
   "outputs": [],
   "source": [
    "@app.route('/predict',methods=['POST'])\n",
    "def predict():\n",
    "  if request.method=='POST':\n",
    "    f= request.files['images']\n",
    "    basepath=os.path.dirname(__file__)\n",
    "    file_path==os.path.join(\n",
    "        basepath, 'uploads',secure_filename(f.filename))\n",
    "    f.save(file_path)\n",
    "    img=image.load_img(file_path, target_size=(128,128))\n",
    "    x=image.img_to_array(img)\n",
    "    x=np.expand_dims(x, axis=0)\n",
    "    plant=request.form['plant']\n",
    "    print(plant)\n",
    "    if(plant==\"fruit\"):\n",
    "      preds=model.predict_classess(x)\n",
    "      print(preds)\n",
    "      df=pd.read_excel(r'C:\\Users\\Dell\\Desktop\\IBM\\precautions-fruits.xlsx')\n",
    "      print (df.iloc[preds[0]]['cautions'])\n",
    "    else:\n",
    "      pred=model1.predict_classes(x)\n",
    "      df=pd.read_excel(r'C:\\Users\\Dell\\Desktop\\IBM\\precautions-veg.xlsx')\n",
    "      print(df.iloc[preds[0]]['caution'])\n",
    "      return df.iloc[preds[0]]['caution']\n",
    "    "
   ]
  },
  {
   "cell_type": "code",
   "execution_count": null,
   "metadata": {
    "id": "lz5U1NEEUQkl"
   },
   "outputs": [
    {
     "name": "stdout",
     "output_type": "stream",
     "text": [
      " * Serving Flask app \"__main__\" (lazy loading)\n",
      " * Environment: production\n",
      "\u001b[31m   WARNING: This is a development server. Do not use it in a production deployment.\u001b[0m\n",
      "\u001b[2m   Use a production WSGI server instead.\u001b[0m\n",
      " * Debug mode: off\n"
     ]
    },
    {
     "name": "stderr",
     "output_type": "stream",
     "text": [
      " * Running on http://127.0.0.1:5000/ (Press CTRL+C to quit)\n",
      "127.0.0.1 - - [13/Nov/2022 11:52:09] \"GET / HTTP/1.1\" 200 -\n",
      "127.0.0.1 - - [13/Nov/2022 11:52:09] \"GET /img.jpg HTTP/1.1\" 404 -\n",
      "127.0.0.1 - - [13/Nov/2022 11:52:09] \"GET /favicon.ico HTTP/1.1\" 404 -\n",
      "127.0.0.1 - - [13/Nov/2022 11:52:17] \"GET /predict.html HTTP/1.1\" 404 -\n"
     ]
    }
   ],
   "source": [
    "\n",
    "if __name__==\"__main__\":\n",
    "  app.run(debug=False)"
   ]
  },
  {
   "cell_type": "code",
   "execution_count": null,
   "metadata": {},
   "outputs": [],
   "source": []
  }
 ],
 "metadata": {
  "colab": {
   "provenance": []
  },
  "kernelspec": {
   "display_name": "Python 3 (ipykernel)",
   "language": "python",
   "name": "python3"
  },
  "language_info": {
   "codemirror_mode": {
    "name": "ipython",
    "version": 3
   },
   "file_extension": ".py",
   "mimetype": "text/x-python",
   "name": "python",
   "nbconvert_exporter": "python",
   "pygments_lexer": "ipython3",
   "version": "3.9.7"
  }
 },
 "nbformat": 4,
 "nbformat_minor": 1
}
