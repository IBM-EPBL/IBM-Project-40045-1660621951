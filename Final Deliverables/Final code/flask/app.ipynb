{
 "cells": [
  {
   "cell_type": "code",
   "execution_count": 1,
   "metadata": {},
   "outputs": [],
   "source": [
    "from distutils.log import debug\n",
    "import requests\n",
    "from tensorflow.keras.preprocessing import image\n",
    "from tensorflow.keras.models import load_model\n",
    "import numpy as np\n",
    "import pandas as pd\n",
    "import tensorflow as tf\n",
    "from flask import Flask, request ,  render_template, redirect, url_for\n",
    "import os\n",
    "from werkzeug.utils import secure_filename\n",
    "from tensorflow.python.keras.backend import set_session"
   ]
  },
  {
   "cell_type": "code",
   "execution_count": 2,
   "metadata": {
    "id": "RVO8uVO3Tcii"
   },
   "outputs": [
    {
     "name": "stdout",
     "output_type": "stream",
     "text": [
      " * Serving Flask app \"__main__\" (lazy loading)\n",
      " * Environment: production\n",
      "\u001b[31m   WARNING: This is a development server. Do not use it in a production deployment.\u001b[0m\n",
      "\u001b[2m   Use a production WSGI server instead.\u001b[0m\n",
      " * Debug mode: on\n"
     ]
    },
    {
     "name": "stderr",
     "output_type": "stream",
     "text": [
      " * Running on http://127.0.0.1:5000/ (Press CTRL+C to quit)\n",
      "127.0.0.1 - - [19/Nov/2022 18:27:24] \"GET / HTTP/1.1\" 200 -\n",
      "127.0.0.1 - - [19/Nov/2022 18:27:27] \"GET /prediction HTTP/1.1\" 200 -\n",
      "127.0.0.1 - - [19/Nov/2022 18:27:34] \"POST /predict HTTP/1.1\" 500 -\n",
      "Traceback (most recent call last):\n",
      "  File \"C:\\Users\\Dell\\anaconda3\\Lib\\site-packages\\flask\\app.py\", line 2464, in __call__\n",
      "    return self.wsgi_app(environ, start_response)\n",
      "  File \"C:\\Users\\Dell\\anaconda3\\Lib\\site-packages\\flask\\app.py\", line 2450, in wsgi_app\n",
      "    response = self.handle_exception(e)\n",
      "  File \"C:\\Users\\Dell\\anaconda3\\Lib\\site-packages\\flask\\app.py\", line 1867, in handle_exception\n",
      "    reraise(exc_type, exc_value, tb)\n",
      "  File \"C:\\Users\\Dell\\anaconda3\\Lib\\site-packages\\flask\\_compat.py\", line 39, in reraise\n",
      "    raise value\n",
      "  File \"C:\\Users\\Dell\\anaconda3\\Lib\\site-packages\\flask\\app.py\", line 2447, in wsgi_app\n",
      "    response = self.full_dispatch_request()\n",
      "  File \"C:\\Users\\Dell\\anaconda3\\Lib\\site-packages\\flask\\app.py\", line 1952, in full_dispatch_request\n",
      "    rv = self.handle_user_exception(e)\n",
      "  File \"C:\\Users\\Dell\\anaconda3\\Lib\\site-packages\\flask\\app.py\", line 1821, in handle_user_exception\n",
      "    reraise(exc_type, exc_value, tb)\n",
      "  File \"C:\\Users\\Dell\\anaconda3\\Lib\\site-packages\\flask\\_compat.py\", line 39, in reraise\n",
      "    raise value\n",
      "  File \"C:\\Users\\Dell\\anaconda3\\Lib\\site-packages\\flask\\app.py\", line 1950, in full_dispatch_request\n",
      "    rv = self.dispatch_request()\n",
      "  File \"C:\\Users\\Dell\\anaconda3\\Lib\\site-packages\\flask\\app.py\", line 1936, in dispatch_request\n",
      "    return self.view_functions[rule.endpoint](**req.view_args)\n",
      "  File \"C:\\Users\\Dell\\AppData\\Local\\Temp/ipykernel_17940/2322679246.py\", line 18, in predict\n",
      "    \n",
      "  File \"C:\\Users\\Dell\\anaconda3\\Lib\\site-packages\\flask\\debughelpers.py\", line 96, in __getitem__\n",
      "    return oldcls.__getitem__(self, key)\n",
      "  File \"C:\\Users\\Dell\\anaconda3\\Lib\\site-packages\\werkzeug\\datastructures.py\", line 377, in __getitem__\n",
      "    raise exceptions.BadRequestKeyError(key)\n",
      "werkzeug.exceptions.BadRequestKeyError: 400 Bad Request: The browser (or proxy) sent a request that this server could not understand.\n",
      "KeyError: 'images'\n",
      "127.0.0.1 - - [19/Nov/2022 18:27:35] \"GET /predict?__debugger__=yes&cmd=resource&f=style.css HTTP/1.1\" 200 -\n",
      "127.0.0.1 - - [19/Nov/2022 18:27:35] \"GET /predict?__debugger__=yes&cmd=resource&f=debugger.js HTTP/1.1\" 200 -\n",
      "127.0.0.1 - - [19/Nov/2022 18:27:35] \"GET /predict?__debugger__=yes&cmd=resource&f=console.png HTTP/1.1\" 200 -\n",
      "127.0.0.1 - - [19/Nov/2022 18:27:35] \"GET /predict?__debugger__=yes&cmd=resource&f=ubuntu.ttf HTTP/1.1\" 200 -\n"
     ]
    }
   ],
   "source": [
    "app= Flask(__name__,template_folder='templates')\n",
    "\n",
    "model=load_model('fruitdata.h5')\n",
    "model1=load_model('vegetabledata.h5')\n",
    "\n",
    "@app.route('/', methods=['GET'])\n",
    "def home():\n",
    "    return render_template('home.html')\n",
    "\n",
    "@app.route('/prediction', methods=['GET'])\n",
    "def prediction():\n",
    "    return render_template('predict.html')\n",
    "\n",
    "@app.route('/predict',methods=['GET','POST'])\n",
    "def predict():\n",
    "    if request.method == 'POST':\n",
    "\n",
    "        f = request.files['images']\n",
    "        basepath = os.path.dirname(__file__)\n",
    "        file_path = os.path.join(basepath, 'Dataset Plant Disease', secure_filename(f.filename))\n",
    "        f.save(file_path)\n",
    "        img = image.load_img(file_path, target_size=(128, 128))\n",
    "        \n",
    "        x = image.img_to_array(img)\n",
    "        x = np.expand_dims(x, axis=0)\n",
    "\n",
    "        plant=request.form['plant']\n",
    "        print(plant)\n",
    "\n",
    "        if(plant==\"fruit\"):\n",
    "            preds=model.predict_classess(x)\n",
    "            print(preds)\n",
    "            df=pd.read_excel('precautions-fruits.xlsx')\n",
    "            print (df.iloc[preds[0]]['cautions'])\n",
    "        else:\n",
    "            pred=model1.predict_classes(x)\n",
    "            df=pd.read_excel('precautions-veg.xlsx')\n",
    "            print(df.iloc[preds[0]]['caution'])\n",
    "        return df.iloc[preds[0]]['caution']\n",
    "    \n",
    "\n",
    "\n",
    "if __name__ == \"__main__\":\n",
    "    app.run(debug=True,use_reloader=False)"
   ]
  },
  {
   "cell_type": "code",
   "execution_count": null,
   "metadata": {},
   "outputs": [],
   "source": []
  },
  {
   "cell_type": "code",
   "execution_count": null,
   "metadata": {},
   "outputs": [],
   "source": []
  }
 ],
 "metadata": {
  "colab": {
   "provenance": []
  },
  "kernelspec": {
   "display_name": "Python 3 (ipykernel)",
   "language": "python",
   "name": "python3"
  },
  "language_info": {
   "codemirror_mode": {
    "name": "ipython",
    "version": 3
   },
   "file_extension": ".py",
   "mimetype": "text/x-python",
   "name": "python",
   "nbconvert_exporter": "python",
   "pygments_lexer": "ipython3",
   "version": "3.9.7"
  }
 },
 "nbformat": 4,
 "nbformat_minor": 1
}
