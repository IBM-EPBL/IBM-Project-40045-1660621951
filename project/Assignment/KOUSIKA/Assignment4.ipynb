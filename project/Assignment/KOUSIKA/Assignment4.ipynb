{
  "nbformat": 4,
  "nbformat_minor": 0,
  "metadata": {
    "colab": {
      "provenance": [],
      "collapsed_sections": []
    },
    "kernelspec": {
      "name": "python3",
      "display_name": "Python 3"
    },
    "language_info": {
      "name": "python"
    }
  },
  "cells": [
    {
      "cell_type": "markdown",
      "source": [
        "Dataset has been downloaded and saved\n",
        "\n",
        "Import required Libraries"
      ],
      "metadata": {
        "id": "gu4bzxwhIVsq"
      }
    },
    {
      "cell_type": "code",
      "execution_count": 1,
      "metadata": {
        "id": "HFoA9eEcIC7x"
      },
      "outputs": [],
      "source": [
        "import pandas as pd\n",
        "import seaborn as sns\n",
        "from sklearn.model_selection import train_test_split\n",
        "from sklearn.preprocessing import LabelEncoder\n",
        "from keras.models import Model\n",
        "from keras.layers import LSTM, Activation, Dense, Dropout, Input, Embedding\n",
        "from keras.optimizers import RMSprop\n",
        "from keras.preprocessing.text import Tokenizer\n",
        "from keras.preprocessing import sequence\n",
        "from keras.utils import pad_sequences\n",
        "from keras.utils import to_categorical\n",
        "from keras.callbacks import EarlyStopping"
      ]
    },
    {
      "cell_type": "markdown",
      "source": [
        "Read dataset and do preprocessing"
      ],
      "metadata": {
        "id": "At4NGib2IUhO"
      }
    },
    {
      "cell_type": "code",
      "source": [
        "df = pd.read_csv(\n",
        "    'spam.csv',\n",
        "    delimiter = ',',\n",
        "    encoding = 'latin-1'\n",
        ")"
      ],
      "metadata": {
        "id": "W4wPRjm0IsVX"
      },
      "execution_count": 3,
      "outputs": []
    },
    {
      "cell_type": "code",
      "source": [
        "df.drop(\n",
        "    ['Unnamed: 2', 'Unnamed: 3', 'Unnamed: 4'],\n",
        "    axis = 1,\n",
        "    inplace = True\n",
        ")"
      ],
      "metadata": {
        "id": "_TAse1acJ3U_"
      },
      "execution_count": 4,
      "outputs": []
    },
    {
      "cell_type": "code",
      "source": [
        "X = df.v2\n",
        "Y = df.v1\n",
        "le = LabelEncoder()\n",
        "Y = le.fit_transform(Y)\n",
        "Y = Y.reshape(-1, 1)"
      ],
      "metadata": {
        "id": "MEm4lb-4J3Rc"
      },
      "execution_count": 5,
      "outputs": []
    },
    {
      "cell_type": "code",
      "source": [
        "X_train, X_test, Y_train, Y_test = train_test_split(\n",
        "    X,\n",
        "    Y,\n",
        "    test_size = 0.15\n",
        ")"
      ],
      "metadata": {
        "id": "tjn8AQCRJ3PM"
      },
      "execution_count": 6,
      "outputs": []
    },
    {
      "cell_type": "code",
      "source": [
        "max_words = 1000\n",
        "max_len = 150\n",
        "tok = Tokenizer(num_words = max_words)\n",
        "tok.fit_on_texts(X_train)\n",
        "sequences = tok.texts_to_sequences(X_train)\n",
        "sequences_matrix = pad_sequences(sequences, maxlen = max_len)"
      ],
      "metadata": {
        "id": "SPA2C7fZJ3Mj"
      },
      "execution_count": 7,
      "outputs": []
    },
    {
      "cell_type": "markdown",
      "source": [
        "Add Layers (LSTM, Dense-(Hidden Layers), Output)"
      ],
      "metadata": {
        "id": "jAai8AisKE85"
      }
    },
    {
      "cell_type": "code",
      "source": [
        "def RNN():\n",
        "    inputs = Input(name = 'inputs', shape = [max_len])\n",
        "    layer = Embedding(max_words, 50, input_length = max_len)(inputs)\n",
        "    layer = LSTM(64)(layer)\n",
        "    layer = Dense(256,name = 'FC1')(layer)\n",
        "    layer = Activation('relu')(layer)\n",
        "    layer = Dropout(0.5)(layer)\n",
        "    layer = Dense(1,name = 'out_layer')(layer)\n",
        "    layer = Activation('sigmoid')(layer)\n",
        "    model = Model(inputs = inputs, outputs = layer)\n",
        "    return model"
      ],
      "metadata": {
        "id": "c48Z-egeJ3Jo"
      },
      "execution_count": 8,
      "outputs": []
    },
    {
      "cell_type": "markdown",
      "source": [
        "Create Model"
      ],
      "metadata": {
        "id": "BHlT1GrSKNKC"
      }
    },
    {
      "cell_type": "code",
      "source": [
        "model = RNN()"
      ],
      "metadata": {
        "id": "PY7mIHeDJ3HQ"
      },
      "execution_count": 9,
      "outputs": []
    },
    {
      "cell_type": "markdown",
      "source": [
        "Compile the model"
      ],
      "metadata": {
        "id": "ygZvLZOjKP5h"
      }
    },
    {
      "cell_type": "code",
      "source": [
        "model.compile(loss = 'binary_crossentropy', optimizer = RMSprop(), metrics = ['accuracy'])\n"
      ],
      "metadata": {
        "id": "yLbSDZ_VJ3El"
      },
      "execution_count": 10,
      "outputs": []
    },
    {
      "cell_type": "markdown",
      "source": [
        "Fit the model"
      ],
      "metadata": {
        "id": "KqQIYWEkKVYI"
      }
    },
    {
      "cell_type": "code",
      "source": [
        "model.fit(\n",
        "    sequences_matrix,\n",
        "    Y_train,\n",
        "    batch_size = 128,\n",
        "    epochs=10,\n",
        "    validation_split = 0.2,\n",
        "    callbacks=[EarlyStopping(monitor = 'val_loss', min_delta = 0.0001)])"
      ],
      "metadata": {
        "colab": {
          "base_uri": "https://localhost:8080/"
        },
        "id": "3mncXou0J3CJ",
        "outputId": "26745ff9-3ead-4c23-c698-81e766284f48"
      },
      "execution_count": 11,
      "outputs": [
        {
          "output_type": "stream",
          "name": "stdout",
          "text": [
            "Epoch 1/10\n",
            "30/30 [==============================] - 8s 206ms/step - loss: 0.3100 - accuracy: 0.8862 - val_loss: 0.1459 - val_accuracy: 0.9536\n",
            "Epoch 2/10\n",
            "30/30 [==============================] - 4s 149ms/step - loss: 0.0752 - accuracy: 0.9810 - val_loss: 0.0401 - val_accuracy: 0.9884\n"
          ]
        },
        {
          "output_type": "execute_result",
          "data": {
            "text/plain": [
              "<keras.callbacks.History at 0x7fbd2ca6cbd0>"
            ]
          },
          "metadata": {},
          "execution_count": 11
        }
      ]
    },
    {
      "cell_type": "markdown",
      "source": [
        "Save the model"
      ],
      "metadata": {
        "id": "NO1iDjZxKfBC"
      }
    },
    {
      "cell_type": "code",
      "source": [
        "model.save('./spam.h5')"
      ],
      "metadata": {
        "id": "pLsPYOncKZU0"
      },
      "execution_count": 12,
      "outputs": []
    },
    {
      "cell_type": "markdown",
      "source": [
        "Test the model"
      ],
      "metadata": {
        "id": "IL7F056fKjDW"
      }
    },
    {
      "cell_type": "code",
      "source": [
        "test_sequences = tok.texts_to_sequences(X_test)\n",
        "test_sequences_matrix = pad_sequences(test_sequences, maxlen = max_len)"
      ],
      "metadata": {
        "id": "FA1AFwDFKtsW"
      },
      "execution_count": 13,
      "outputs": []
    },
    {
      "cell_type": "code",
      "source": [
        "accr = model.evaluate(test_sequences_matrix, Y_test)"
      ],
      "metadata": {
        "colab": {
          "base_uri": "https://localhost:8080/"
        },
        "id": "lWuu6WuAKZRN",
        "outputId": "b5f43829-54e9-42c3-9e7f-b00647a888f3"
      },
      "execution_count": 14,
      "outputs": [
        {
          "output_type": "stream",
          "name": "stdout",
          "text": [
            "27/27 [==============================] - 0s 13ms/step - loss: 0.0761 - accuracy: 0.9809\n"
          ]
        }
      ]
    },
    {
      "cell_type": "code",
      "source": [
        "print('Test set\\n  Loss: {:0.3f}\\n  Accuracy: {:0.3f}'.format(accr[0],accr[1]))"
      ],
      "metadata": {
        "colab": {
          "base_uri": "https://localhost:8080/"
        },
        "id": "e0XH6-3vKZOR",
        "outputId": "30242d8f-6f4a-486f-aff7-9bc5747bec7a"
      },
      "execution_count": 15,
      "outputs": [
        {
          "output_type": "stream",
          "name": "stdout",
          "text": [
            "Test set\n",
            "  Loss: 0.076\n",
            "  Accuracy: 0.981\n"
          ]
        }
      ]
    }
  ]
}